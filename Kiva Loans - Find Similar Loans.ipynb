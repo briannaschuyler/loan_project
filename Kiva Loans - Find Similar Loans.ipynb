{
 "cells": [
  {
   "cell_type": "markdown",
   "metadata": {},
   "source": [
    "# Calculate Similarity\n",
    "Given the diverse set of features here (about location, borrower, and the loan itself) let's just start with a really simple similarity metric.  We'll use Jaccard similarity, where each element of a user's set of loans will just get included in a set of loan elements.  Then we'll find a loan that's currently eligible with a large number of overlapping elements.\n",
    "\n",
    "We could eventually measure similarity across different metrics and weight more important ones more heavily, but to start let's just throw everything in the same set.\n",
    "\n",
    "The downside of this is that if someone consistently prefers the same country (for example) that's only indirectly accounted for in the small size of the set of elements (because that country would be counted only once, though it occurred many times.)  However, this will work as a proof of concept."
   ]
  },
  {
   "cell_type": "code",
   "execution_count": 1,
   "metadata": {
    "collapsed": true
   },
   "outputs": [],
   "source": [
    "import pandas as pd\n",
    "import requests\n",
    "\n",
    "from country import country_to_continent\n",
    "from utils import eval_string\n",
    "\n",
    "path = '/Users/brianna/Dropbox/data_project/loan_project/data/'\n"
   ]
  },
  {
   "cell_type": "markdown",
   "metadata": {},
   "source": [
    "## Get loan elements for each eligible loan\n",
    "Include the following features:\n",
    "- country\n",
    "- continent\n",
    "- sector\n",
    "- tags\n",
    "- themes"
   ]
  },
  {
   "cell_type": "code",
   "execution_count": 2,
   "metadata": {
    "collapsed": true
   },
   "outputs": [],
   "source": [
    "# Make a dictionary with {loan: set of loan elements} for each currently eligible loan.\n",
    "# Eventually make a cron job to grab new loans every day.\n",
    "loans = pd.DataFrame.from_csv('%sloans_10k.csv' % path)\n",
    "loans['tags'] = loans.tags.apply(lambda x: eval_string(x))\n",
    "loans['themes'] = loans.themes.apply(lambda x: eval_string(x))\n",
    "\n",
    "all_loan_details = {}\n",
    "for i in loans.index:\n",
    "    # Include location and sector info, tags, and themes\n",
    "    loan_elements = set([loans['country'][i], loans['continent'][i], loans['sector'][i]])\n",
    "    loan_elements.update(loans['tags'][i] + loans['themes'][i])\n",
    "    all_loan_details[loans['loan_id'][i]] = loan_elements\n"
   ]
  },
  {
   "cell_type": "markdown",
   "metadata": {},
   "source": [
    "## For a specific user, create a set of all of the elements of his/her previous loans.\n",
    "Let's look at my loan history for an example.  Because I lived in Uganda and I'm a big fan of woman-owned businesses, I tend to focus on East Africa and women."
   ]
  },
  {
   "cell_type": "code",
   "execution_count": 3,
   "metadata": {
    "collapsed": false
   },
   "outputs": [],
   "source": [
    "def get_user_loan_elements(user):\n",
    "    url = 'http://api.kivaws.org/v1/lenders/{user}/loans.json'.format(user=user)\n",
    "    response = requests.get(url)\n",
    "    lender = eval(response.content.replace('false', 'False').replace('true', 'True'))\n",
    "\n",
    "    user_loan_elements = set()\n",
    "\n",
    "    for loan in range(len(lender['loans'])):\n",
    "        if 'country' in lender['loans'][loan]['location']:\n",
    "            user_loan_elements.update([lender['loans'][loan]['location']['country']])\n",
    "            user_loan_elements.update([country_to_continent.get(lender['loans'][loan]['location']['country'])])\n",
    "\n",
    "        if 'sector'in lender['loans'][loan]:\n",
    "            user_loan_elements.update([lender['loans'][loan]['sector']])\n",
    "\n",
    "        if 'tags' in lender['loans'][loan]:\n",
    "            tags = [k['name'].strip('#') for k in lender['loans'][loan]['tags']]\n",
    "            user_loan_elements.update(tags)\n",
    "\n",
    "        if 'themes' in lender['loans'][loan]:\n",
    "            themes = lender['loans'][loan]['themes']\n",
    "            user_loan_elements.update(themes)\n",
    "        \n",
    "    return user_loan_elements"
   ]
  },
  {
   "cell_type": "code",
   "execution_count": 4,
   "metadata": {
    "collapsed": true
   },
   "outputs": [],
   "source": [
    "user = 'brianna9306'\n",
    "user_loan_elements = get_user_loan_elements(user)"
   ]
  },
  {
   "cell_type": "code",
   "execution_count": 5,
   "metadata": {
    "collapsed": false
   },
   "outputs": [
    {
     "data": {
      "text/plain": [
       "{'Africa',\n",
       " 'Agriculture',\n",
       " 'Animals',\n",
       " 'Clothing',\n",
       " 'Eco-friendly',\n",
       " 'Fabrics',\n",
       " 'Food',\n",
       " 'Green',\n",
       " 'Growing Businesses',\n",
       " 'Health and Sanitation',\n",
       " 'Housing',\n",
       " 'Interesting Photo',\n",
       " 'Job Creation',\n",
       " 'Job Creator',\n",
       " 'Kenya',\n",
       " 'Parent',\n",
       " 'Repeat Borrower',\n",
       " 'Retail',\n",
       " 'Rural Exclusion',\n",
       " 'Schooling',\n",
       " 'Single Parent',\n",
       " 'Social Enterprise',\n",
       " 'Technology',\n",
       " 'Uganda',\n",
       " 'Unique',\n",
       " 'Vegan',\n",
       " 'Vulnerable Groups',\n",
       " 'Woman Owned Biz',\n",
       " 'Youth',\n",
       " 'user_favorite'}"
      ]
     },
     "execution_count": 5,
     "metadata": {},
     "output_type": "execute_result"
    }
   ],
   "source": [
    "user_loan_elements"
   ]
  },
  {
   "cell_type": "markdown",
   "metadata": {},
   "source": [
    "## Find which loans have the highest overlap with the user's loans"
   ]
  },
  {
   "cell_type": "code",
   "execution_count": 6,
   "metadata": {
    "collapsed": false
   },
   "outputs": [
    {
     "name": "stdout",
     "output_type": "stream",
     "text": [
      "***TOP FIVE SIMILAR LOANS for brianna9306***\n",
      "\n",
      "Loan: 1126189, similarity: 0.354838709677\n",
      "set(['Widowed', 'user_favorite', 'Parent', 'Food', 'Africa', 'Schooling', 'Vegan', 'Uganda', 'Single Parent', 'Woman Owned Biz', 'Repeat Borrower', 'Rural Exclusion'])\n",
      "\n",
      "Loan: 1129601, similarity: 0.333333333333\n",
      "set(['user_favorite', 'Parent', 'Africa', 'Schooling', 'Uganda', 'Single Parent', 'Woman Owned Biz', 'Repeat Borrower', 'Clothing', 'Rural Exclusion'])\n",
      "\n",
      "Loan: 1135181, similarity: 0.3\n",
      "set(['user_favorite', 'Parent', 'Africa', 'Schooling', 'Eco-friendly', 'Uganda', 'Woman Owned Biz', 'Clothing', 'Rural Exclusion'])\n",
      "\n",
      "Loan: 1134815, similarity: 0.290322580645\n",
      "set(['Widowed', 'user_favorite', 'Parent', 'Food', 'Africa', 'Vegan', 'Single Parent', 'Woman Owned Biz', 'Kenya', 'Repeat Borrower'])\n",
      "\n",
      "Loan: 1130773, similarity: 0.28125\n",
      "set(['user_favorite', 'Parent', 'Food', 'Female Education', 'Africa', 'Schooling', 'Vegan', 'Senegal', 'Woman Owned Biz', 'Repeat Borrower', 'Rural Exclusion'])\n",
      "\n",
      "\n",
      "***TOP FIVE WORST LOANS for brianna9306***\n",
      "\n",
      "Loan: 1139842, similarity: 0.0\n",
      "set(['South_America', 'Personal Use', 'Peru'])\n",
      "\n",
      "Loan: 1129765, similarity: 0.025641025641\n",
      "set(['South_America', 'IPA Study', 'First Loan', 'Innovative Loans', 'Flexible Credit Study', 'Biz Durable Asset', 'Elderly', 'Colombia', 'Retail', 'Repair Renew Replace'])\n",
      "\n",
      "Loan: 1139056, similarity: 0.0263157894737\n",
      "set(['IPA Study', 'First Loan', 'Parent', 'Entertainment', 'Innovative Loans', 'Flexible Credit Study', 'South_America', 'Colombia', 'Repair Renew Replace'])\n",
      "\n",
      "Loan: 1139102, similarity: 0.027027027027\n",
      "set(['South_America', 'IPA Study', 'First Loan', 'Food', 'Flexible Credit Study', 'Biz Durable Asset', 'Innovative Loans', 'Colombia'])\n",
      "\n",
      "Loan: 1139149, similarity: 0.0277777777778\n",
      "set(['Arts', 'South_America', 'user_favorite', 'Biz Durable Asset', 'Single', 'Repair Renew Replace', 'Ecuador'])\n"
     ]
    }
   ],
   "source": [
    "def jaccard_distance(x, user_loan_elements):\n",
    "    intersection = len(set.intersection(x, user_loan_elements))\n",
    "    union = len(set.union(x, user_loan_elements))\n",
    "    if union > 0:\n",
    "        return intersection/float(union)\n",
    "    else:\n",
    "        return 0\n",
    "\n",
    "# Use dict comprehension to find which of those loans has the highest overlap with the user_loan_elements\n",
    "loan_similarity = {jaccard_distance(v, user_loan_elements): k for k, v in all_loan_details.iteritems()}\n",
    "\n",
    "print('***TOP FIVE SIMILAR LOANS for %s***' % user)\n",
    "for best_similarity in sorted(loan_similarity, reverse=True)[:5]:\n",
    "    loan_id = loan_similarity[best_similarity]\n",
    "    print('\\nLoan: %s, similarity: %s' % (loan_id, best_similarity))\n",
    "    print(all_loan_details[loan_id])\n",
    "    \n",
    "print('\\n\\n***TOP FIVE WORST LOANS for %s***' % user)\n",
    "for worst_similarity in sorted(loan_similarity)[:5]:\n",
    "    loan_id = loan_similarity[worst_similarity]\n",
    "    print('\\nLoan: %s, similarity: %s' % (loan_id, worst_similarity))\n",
    "    print(all_loan_details[loan_id])"
   ]
  },
  {
   "cell_type": "markdown",
   "metadata": {},
   "source": [
    "Four of my top five \"similar\" loans are women-owned businesses in East Africa, nice!  And conversely, my five least good fits are South America, where I've never given a loan."
   ]
  },
  {
   "cell_type": "code",
   "execution_count": 7,
   "metadata": {
    "collapsed": false
   },
   "outputs": [
    {
     "data": {
      "text/plain": [
       "{'Agriculture',\n",
       " 'Animals',\n",
       " 'Arts',\n",
       " 'Biz Durable Asset',\n",
       " 'Clothing',\n",
       " 'Colombia',\n",
       " 'Elderly',\n",
       " 'Fabrics',\n",
       " 'First Loan',\n",
       " 'Flexible Credit Study',\n",
       " 'Food',\n",
       " 'IPA Study',\n",
       " 'Innovative Loans',\n",
       " 'Manufacturing',\n",
       " 'Parent',\n",
       " 'Refugees\\\\/Displaced',\n",
       " 'Repeat Borrower',\n",
       " 'Retail',\n",
       " 'Rural Exclusion',\n",
       " 'Services',\n",
       " 'Single Parent',\n",
       " 'South_America',\n",
       " 'Vulnerable Groups',\n",
       " 'Woman Owned Biz',\n",
       " 'user_favorite',\n",
       " 'volunteer_like',\n",
       " 'volunteer_pick'}"
      ]
     },
     "execution_count": 7,
     "metadata": {},
     "output_type": "execute_result"
    }
   ],
   "source": [
    "# Let's try someone with different preferences to see how it fits.\n",
    "user = 'rafael7312'\n",
    "user_loan_elements = get_user_loan_elements(user)\n",
    "user_loan_elements"
   ]
  },
  {
   "cell_type": "code",
   "execution_count": 8,
   "metadata": {
    "collapsed": false
   },
   "outputs": [
    {
     "name": "stdout",
     "output_type": "stream",
     "text": [
      "***TOP FIVE SIMILAR LOANS for rafael7312***\n",
      "\n",
      "Loan: 1135258, similarity: 0.428571428571\n",
      "set(['Biz Durable Asset', 'IPA Study', 'user_favorite', 'First Loan', 'Innovative Loans', 'Flexible Credit Study', 'South_America', 'Colombia', 'Services', 'Woman Owned Biz', 'Parent', 'Repair Renew Replace', 'Fabrics'])\n",
      "\n",
      "Loan: 1136283, similarity: 0.407407407407\n",
      "set(['Biz Durable Asset', 'IPA Study', 'Parent', 'First Loan', 'Food', 'Flexible Credit Study', 'South_America', 'Elderly', 'Innovative Loans', 'Colombia', 'Woman Owned Biz'])\n",
      "\n",
      "Loan: 1132112, similarity: 0.392857142857\n",
      "set(['Biz Durable Asset', 'IPA Study', 'user_favorite', 'First Loan', 'Innovative Loans', 'Flexible Credit Study', 'South_America', 'Elderly', 'Colombia', 'Services', 'Parent', 'Technology'])\n",
      "\n",
      "Loan: 1138986, similarity: 0.37037037037\n",
      "set(['IPA Study', 'First Loan', 'Innovative Loans', 'Flexible Credit Study', 'South_America', 'Elderly', 'Colombia', 'Single Parent', 'Woman Owned Biz', 'Retail'])\n",
      "\n",
      "Loan: 1138213, similarity: 0.357142857143\n",
      "set(['IPA Study', 'user_favorite', 'First Loan', 'Innovative Loans', 'Flexible Credit Study', 'South_America', 'Colombia', 'Services', 'Woman Owned Biz', 'Parent', 'Repair Renew Replace'])\n",
      "\n",
      "\n",
      "***TOP FIVE WORST LOANS for rafael7312***\n",
      "\n",
      "Loan: 1139839, similarity: 0.0\n",
      "set(['Supporting Family', 'Honduras', 'Health and Sanitation', 'Personal Use', 'Single', 'Green', 'Eco-friendly', 'Technology', 'North_America'])\n",
      "\n",
      "Loan: 1135091, similarity: 0.0277777777778\n",
      "set(['user_favorite', 'Personal Use', 'Asia', 'Single', 'Green', 'Eco-friendly', 'Islamic Finance', 'Yemen', 'Technology', 'Conflict Zones'])\n",
      "\n",
      "Loan: 1139906, similarity: 0.0285714285714\n",
      "set(['Supporting Family', 'user_favorite', 'Technology', 'Personal Use', 'Single', 'Green', 'Eco-friendly', 'Nicaragua', 'North_America'])\n",
      "\n",
      "Loan: 1138194, similarity: 0.0294117647059\n",
      "set(['user_favorite', 'Technology', 'Personal Use', 'Single', 'Green', 'Eco-friendly', 'Nicaragua', 'North_America'])\n",
      "\n",
      "Loan: 1139882, similarity: 0.030303030303\n",
      "set(['user_favorite', 'Nicaragua', 'Personal Use', 'Green', 'Eco-friendly', 'Technology', 'North_America'])\n"
     ]
    }
   ],
   "source": [
    "# Use dict comprehension to find which of those loans has the highest overlap with the user_loan_elements\n",
    "loan_similarity = {jaccard_distance(v, user_loan_elements): k for k, v in all_loan_details.iteritems()}\n",
    "\n",
    "print('***TOP FIVE SIMILAR LOANS for %s***' % user)\n",
    "for best_similarity in sorted(loan_similarity, reverse=True)[:5]:\n",
    "    loan_id = loan_similarity[best_similarity]\n",
    "    print('\\nLoan: %s, similarity: %s' % (loan_id, best_similarity))\n",
    "    print(all_loan_details[loan_id])\n",
    "    \n",
    "print('\\n\\n***TOP FIVE WORST LOANS for %s***' % user)\n",
    "for worst_similarity in sorted(loan_similarity)[:5]:\n",
    "    loan_id = loan_similarity[worst_similarity]\n",
    "    print('\\nLoan: %s, similarity: %s' % (loan_id, worst_similarity))\n",
    "    print(all_loan_details[loan_id])"
   ]
  },
  {
   "cell_type": "markdown",
   "metadata": {},
   "source": [
    "Nice, a lot of \"Innovative Loans\" in South America.  It would take A/B tests to validate whether these loans would actually be more persuasive to people and result in more loans given, but at face value it's definitely promising."
   ]
  },
  {
   "cell_type": "code",
   "execution_count": null,
   "metadata": {
    "collapsed": true
   },
   "outputs": [],
   "source": []
  }
 ],
 "metadata": {
  "kernelspec": {
   "display_name": "Python 2",
   "language": "python",
   "name": "python2"
  },
  "language_info": {
   "codemirror_mode": {
    "name": "ipython",
    "version": 2
   },
   "file_extension": ".py",
   "mimetype": "text/x-python",
   "name": "python",
   "nbconvert_exporter": "python",
   "pygments_lexer": "ipython2",
   "version": "2.7.13"
  }
 },
 "nbformat": 4,
 "nbformat_minor": 0
}
