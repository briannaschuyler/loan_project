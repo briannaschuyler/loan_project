{
 "cells": [
  {
   "cell_type": "markdown",
   "metadata": {},
   "source": [
    "# Calculate Similarity\n",
    "Given the diverse set of features here (about location, borrower, and the loan itself) let's just start with a really simple similarity metric.  We'll use Jaccard similarity, where each element of a user's set of loans will just get included in a set of loan elements.  Then we'll find a loan that's currently eligible with a large number of overlapping elements.\n",
    "\n",
    "We could eventually measure similarity across different metrics and weight more important ones more heavily, but to start let's just throw everything in the same set.\n",
    "\n",
    "The downside of this is that if someone consistently prefers the same country (for example) that's only indirectly accounted for in the small size of the set of elements (because that country would be counted only once, though it occurred many times.)  However, this will work as a proof of concept."
   ]
  },
  {
   "cell_type": "code",
   "execution_count": 1,
   "metadata": {
    "collapsed": false
   },
   "outputs": [],
   "source": [
    "import pandas as pd\n",
    "import pickle\n",
    "import pprint\n",
    "import requests\n",
    "\n",
    "from country import country_to_continent\n",
    "from utils import eval_string\n",
    "\n",
    "path = '/Users/brianna/Dropbox/data_projects/loan_project/data/'\n"
   ]
  },
  {
   "cell_type": "markdown",
   "metadata": {},
   "source": [
    "## Get loan elements for each eligible loan\n",
    "Include the following features:\n",
    "- country\n",
    "- continent\n",
    "- sector\n",
    "- tags\n",
    "- themes"
   ]
  },
  {
   "cell_type": "code",
   "execution_count": 2,
   "metadata": {
    "collapsed": false
   },
   "outputs": [],
   "source": [
    "# Load the dictionary with loan ids and elements for each loan\n",
    "loan_elements = pickle.load( open( \"%sloan_elements.pickle\" % path, \"rb\" ) )"
   ]
  },
  {
   "cell_type": "markdown",
   "metadata": {},
   "source": [
    "## For a specific user, create a set of all of the elements of his/her previous loans.\n",
    "Let's look at my loan history for an example.  Because I lived in Uganda and I'm a big fan of woman-owned businesses, I tend to focus on East Africa and women."
   ]
  },
  {
   "cell_type": "code",
   "execution_count": 3,
   "metadata": {
    "collapsed": false
   },
   "outputs": [],
   "source": [
    "def add_element(category, element):\n",
    "    if element not in category:\n",
    "        category[element] = 1\n",
    "    else:\n",
    "        category[element] += 1\n",
    "    \n",
    "    return category\n",
    "        \n",
    "def get_user_loan_elements(user):                                                                              \n",
    "    url = 'http://api.kivaws.org/v1/lenders/{user}/loans.json'.format(user=user)                               \n",
    "    response = requests.get(url)                                                                               \n",
    "    lender = eval(response.content.replace('false', 'False').replace('true', 'True'))                          \n",
    "                                                                                                               \n",
    "    # To speed up computing time, if a user has a ton of loans only use the 10 most recent.                    \n",
    "    if len(lender['loans']) > 20:                                                                              \n",
    "        lender['loans'] = lender['loans'][-20:]                                                                \n",
    "                                                                                                               \n",
    "    # Make dictionaries of each of these important categories of the user's loans,\n",
    "    # where the key is the category (ex. \"Woman Owned Biz\") and the value is the number\n",
    "    # of times it's appeared in this user's loans\n",
    "    countries, continents, sectors, tags, themes = {}, {}, {}, {}, {}                       \n",
    "                                                                                                               \n",
    "    for loan in range(len(lender['loans'])):                                                                   \n",
    "        if 'country' in lender['loans'][loan]['location']:\n",
    "            country = lender['loans'][loan]['location']['country']\n",
    "            countries = add_element(countries, country)\n",
    "            continent = country_to_continent.get(country, 'Unknown')\n",
    "            continents = add_element(continents, continent)       \n",
    "                                                                                                               \n",
    "        if 'sector'in lender['loans'][loan]: \n",
    "            sector = lender['loans'][loan]['sector']\n",
    "            sectors = add_element(sectors, sector)                                                \n",
    "                                                                                                               \n",
    "        if 'tags' in lender['loans'][loan]:                                                                    \n",
    "            loan_tags = [k['name'].strip('#') for k in lender['loans'][loan]['tags']]  \n",
    "            for t in loan_tags:\n",
    "                tags = add_element(tags, t)                                                                             \n",
    "                                                                                                               \n",
    "        if 'themes' in lender['loans'][loan]:                                                                  \n",
    "            loan_themes = lender['loans'][loan]['themes'] \n",
    "            for th in loan_themes:\n",
    "                themes = add_element(themes, th)                                                                       \n",
    "                              \n",
    "        # Find the gender of the borrowers for each loan.  (For this we actually have to return\n",
    "        # to the loans API)\n",
    "#         url = 'http://api.kivaws.org/v1/loans/'\n",
    "#         for i in range(len(lender['loans'])):\n",
    "#             # API call an only include 50 loans at a time\n",
    "#             if i > 49:\n",
    "#                 break    \n",
    "#             url += '%s,' % lender['loans'][i]['id']\n",
    "\n",
    "#         url = '%s.json' % url[:-1]\n",
    "\n",
    "#         response = requests.get(url)                                                                     \n",
    "#         user_loans = eval(response.content.replace('false', 'False').replace('true', 'True'))['loans'] \n",
    "\n",
    "#         borrower_genders_all_loans = []\n",
    "#         for i in range(len(user_loans)):\n",
    "#             borrower_genders_this_loan = [k['gender'] for k in user_loans[i]['borrowers']]\n",
    "#             borrower_genders_all_loans = borrower_genders_all_loans + borrower_genders_this_loan\n",
    "\n",
    "#         user_borrowers = {'F': borrower_genders_all_loans.count('F'),\n",
    "#                           'M': borrower_genders_all_loans.count('M')}\n",
    "\n",
    "        user_loan_elements = {'user_countries': countries,                                                     \n",
    "                              'user_continents': continents,                                                   \n",
    "                              'user_sectors': sectors,                                                         \n",
    "                              'user_tags': tags,                                                               \n",
    "                              'user_themes': themes}                                                           \n",
    "                                                                                                               \n",
    "    return user_loan_elements   \n",
    "\n",
    "def get_user_loan_elements_and_counts(user_loan_elements):                                         \n",
    "    # Combine elements from each category into a single set to calculate similarity         \n",
    "    user_loan_elements_set = {}\n",
    "    for category in user_loan_elements: \n",
    "        for element in user_loan_elements[category]:\n",
    "            user_loan_elements_set.update(user_loan_elements[category])\n",
    "    return user_loan_elements_set\n",
    "\n",
    "def get_user_loan_elements_categories_only(user_loan_elements):                                         \n",
    "    # Combine elements from each category into a single set to calculate similarity         \n",
    "    user_loan_elements_set = set()                                                          \n",
    "    for category in user_loan_elements:                                                           \n",
    "        user_loan_elements_set.update(user_loan_elements[category])                               \n",
    "    return user_loan_elements_set                                                           "
   ]
  },
  {
   "cell_type": "code",
   "execution_count": 4,
   "metadata": {
    "collapsed": false
   },
   "outputs": [],
   "source": [
    "user = 'brianna9306'\n",
    "user_loan_elements = get_user_loan_elements(user)"
   ]
  },
  {
   "cell_type": "code",
   "execution_count": 5,
   "metadata": {
    "collapsed": false
   },
   "outputs": [
    {
     "data": {
      "text/plain": [
       "{'user_continents': {'Africa': 18},\n",
       " 'user_countries': {'Kenya': 1, 'Uganda': 17},\n",
       " 'user_sectors': {'Agriculture': 2,\n",
       "  'Clothing': 2,\n",
       "  'Food': 7,\n",
       "  'Housing': 1,\n",
       "  'Retail': 6},\n",
       " 'user_tags': {'Animals': 1,\n",
       "  'Eco-friendly': 1,\n",
       "  'Fabrics': 3,\n",
       "  'Health and Sanitation': 1,\n",
       "  'Interesting Photo': 1,\n",
       "  'Job Creator': 1,\n",
       "  'Parent': 9,\n",
       "  'Repeat Borrower': 1,\n",
       "  'Schooling': 1,\n",
       "  'Single Parent': 1,\n",
       "  'Technology': 1,\n",
       "  'Unique': 1,\n",
       "  'Vegan': 2,\n",
       "  'Woman Owned Biz': 9,\n",
       "  'user_favorite': 10},\n",
       " 'user_themes': {'Green': 1,\n",
       "  'Growing Businesses': 1,\n",
       "  'Job Creation': 1,\n",
       "  'Rural Exclusion': 9,\n",
       "  'Social Enterprise': 1,\n",
       "  'Vulnerable Groups': 4,\n",
       "  'Youth': 4}}"
      ]
     },
     "execution_count": 5,
     "metadata": {},
     "output_type": "execute_result"
    }
   ],
   "source": [
    "user_loan_elements"
   ]
  },
  {
   "cell_type": "code",
   "execution_count": 6,
   "metadata": {
    "collapsed": false
   },
   "outputs": [
    {
     "name": "stdout",
     "output_type": "stream",
     "text": [
      "set(['Job Creator', 'Job Creation', 'Vulnerable Groups', 'Health and Sanitation', 'Housing', 'Growing Businesses', 'Interesting Photo', 'Youth', 'Green', 'Eco-friendly', 'Single Parent', 'Animals', 'Repeat Borrower', 'Retail', 'Rural Exclusion', 'Agriculture', 'Unique', 'user_favorite', 'Parent', 'Food', 'Clothing', 'Africa', 'Schooling', 'Vegan', 'Uganda', 'Woman Owned Biz', 'Kenya', 'Social Enterprise', 'Technology', 'Fabrics'])\n",
      "\n",
      "\n",
      "{'Job Creator': 1, 'Job Creation': 1, 'Vulnerable Groups': 4, 'Health and Sanitation': 1, 'Housing': 1, 'Growing Businesses': 1, 'Interesting Photo': 1, 'Youth': 4, 'Green': 1, 'Eco-friendly': 1, 'Single Parent': 1, 'Animals': 1, 'Repeat Borrower': 1, 'Retail': 6, 'Rural Exclusion': 9, 'Agriculture': 2, 'Unique': 1, 'user_favorite': 10, 'Parent': 9, 'Food': 7, 'Clothing': 2, 'Africa': 18, 'Schooling': 1, 'Vegan': 2, 'Uganda': 17, 'Woman Owned Biz': 9, 'Kenya': 1, 'Social Enterprise': 1, 'Technology': 1, 'Fabrics': 3}\n"
     ]
    }
   ],
   "source": [
    "print(get_user_loan_elements_categories_only(user_loan_elements))\n",
    "print('\\n')\n",
    "print(get_user_loan_elements_and_counts(user_loan_elements))"
   ]
  },
  {
   "cell_type": "markdown",
   "metadata": {},
   "source": [
    "# Similarity Measures"
   ]
  },
  {
   "cell_type": "markdown",
   "metadata": {},
   "source": [
    "### Jaccard Distance\n",
    "The simplest way to compute similarity, the number of shared elements divided by the total number of elements.\n",
    "   - <b>Strengths</b>: Simple to understand, the fit is imperfect but it injects an element of randomness that might be beneficial\n",
    "   - <b>Weaknesses</b>: Doesn't take into account the nature of the category (ex. treats country the same as sector) or the number of times each category is is associated with the loans (ex. If I take loans 30 loans from Senegal and one from Cambodia, it counts Senegal and Cambodia equally)"
   ]
  },
  {
   "cell_type": "code",
   "execution_count": 7,
   "metadata": {
    "collapsed": true
   },
   "outputs": [],
   "source": [
    "def jaccard_distance(x, user_loan_elements):                                          \n",
    "    user_loan_elements_set = get_user_loan_elements_categories_only(user_loan_elements)           \n",
    "    intersection = len(set.intersection(x, user_loan_elements_set))                   \n",
    "    union = len(set.union(x, user_loan_elements_set))                                 \n",
    "    if union > 0:                                                                     \n",
    "        return intersection/float(union)                                              \n",
    "    else:                                                                             \n",
    "        return 0      "
   ]
  },
  {
   "cell_type": "markdown",
   "metadata": {},
   "source": [
    "### Dot Product Similarity\n",
    "Compute similarity taking into account the number of instances of each element (ie. if someone gives 10 \"Agriculture\" sector loans and 2 \"Clothing\" sector loans, their similarity scores will be more heavily weighted toward \"Agriculture\".)\n",
    "\n",
    "   - <b>Strengths</b>: If a user has a strong preference in one category, that category will carry more weight, resulting in more loans that are similar in that category\n",
    "   - <b>Weaknesses</b>: Less intuitive measure, tailored specifically to the eccentricities of the Kiva loan dataset"
   ]
  },
  {
   "cell_type": "code",
   "execution_count": 8,
   "metadata": {
    "collapsed": false
   },
   "outputs": [],
   "source": [
    "def get_max_instance(user_loan_elements, category):\n",
    "    # Get the maximm number of instances of a particular category (country, continent, sector)\n",
    "    instances = {v: k for k,v in user_loan_elements[category].iteritems()}\n",
    "    return max(instances)\n",
    "\n",
    "def get_sum_of_instances(user_loan_elements, category):\n",
    "    # Get the maximm number of instances of a particular category (country, continent, sector)\n",
    "    total_instances = 0\n",
    "    for k in user_loan_elements[category]:\n",
    "        total_instances += user_loan_elements[category][k]\n",
    "    return total_instances\n",
    "\n",
    "def max_dp_similarity(user_loan_elements):\n",
    "    # The maximum \"similarity score\" would be:\n",
    "    #    - a match with the most common country, continent, and sector\n",
    "    #    - all tags and themes shared\n",
    "    dp_max = 0\n",
    "    for category in ['user_countries', 'user_continents', 'user_sectors']:\n",
    "        dp_max += get_max_instance(user_loan_elements, category)\n",
    "    for category in ['user_tags', 'user_themes']:\n",
    "        dp_max += get_sum_of_instances(user_loan_elements, category)\n",
    "    return dp_max\n",
    "    \n",
    "def dp_similarity(candidate_loan_elements, user_loan_elements):\n",
    "    user_loan_elements_set = get_user_loan_elements_and_counts(user_loan_elements)\n",
    "    candidate_loan_elements = list(candidate_loan_elements)\n",
    "    \n",
    "    dot_product = sum([user_loan_elements_set.get(k, 0) for k in candidate_loan_elements])\n",
    "    \n",
    "    # Normalize by the maximum dot product of the most ideal loan (which is not the same as sharing\n",
    "    # every element since a loan can in theory share all tags and themes but can only have one \n",
    "    # country, continent, and sector\n",
    "    return dot_product * 1.0 / max_dp_similarity(user_loan_elements)"
   ]
  },
  {
   "cell_type": "markdown",
   "metadata": {},
   "source": [
    "# Find most similar loans"
   ]
  },
  {
   "cell_type": "code",
   "execution_count": 9,
   "metadata": {
    "collapsed": false
   },
   "outputs": [],
   "source": [
    "# Find which of the currently active loans has the highest overlap with the user_loan_elements\n",
    "#similarity_scores = {k: jaccard_distance(v['elements'], user_loan_elements) for k, v in loan_elements.iteritems()}\n",
    "similarity_scores = {k: dp_similarity(v['elements'], user_loan_elements) for k, v in loan_elements.iteritems()}\n",
    "\n",
    "# Turn the dict into a list of tuples sorted by similarity score\n",
    "sorted_similarity_scores = sorted(similarity_scores.items(), key=lambda tup: tup[1], reverse=True)"
   ]
  },
  {
   "cell_type": "code",
   "execution_count": 10,
   "metadata": {
    "collapsed": false
   },
   "outputs": [
    {
     "name": "stdout",
     "output_type": "stream",
     "text": [
      "***TOP FIVE SIMILAR LOANS for brianna9306***\n",
      "\n",
      "Loan: 1284122, similarity: 0.660377358491\n",
      "set([u'user_favorite', u'Food', u'Africa', u'Uganda', u'Woman Owned Biz', u'Rural Exclusion'])\n",
      "\n",
      "Loan: 1284842, similarity: 0.61320754717\n",
      "set([u'user_favorite', u'Parent', u'Africa', u'Senegal', u'Woman Owned Biz', u'Repeat Borrower', u'Retail', u'Fabrics', u'Rural Exclusion'])\n",
      "\n",
      "Loan: 1284849, similarity: 0.61320754717\n",
      "set([u'user_favorite', u'Parent', u'Food', u'Africa', u'Vegan', u'Senegal', u'Woman Owned Biz', u'Repeat Borrower', u'Rural Exclusion'])\n",
      "\n",
      "Loan: 1284844, similarity: 0.61320754717\n",
      "set([u'Supporting Family', u'user_favorite', u'Parent', u'Africa', u'Senegal', u'Woman Owned Biz', u'Repeat Borrower', u'Retail', u'Fabrics', u'Rural Exclusion'])\n",
      "\n",
      "Loan: 1284925, similarity: 0.61320754717\n",
      "set([u'user_favorite', u'Parent', u'Food', u'Africa', u'Vegan', u'Senegal', u'Woman Owned Biz', u'Repeat Borrower', u'Rural Exclusion'])\n",
      "\n",
      "\n",
      "***TOP FIVE WORST LOANS for brianna9306***\n",
      "\n",
      "Loan: 1277750, similarity: 0.0\n",
      "set([u'Pakistan', u'Transportation', u'Elderly', u'Asia', u'Conflict Zones', u'Islamic Finance', u'Repair Renew Replace'])\n",
      "\n",
      "Loan: 1277748, similarity: 0.0\n",
      "set([u'Pakistan', u'Transportation', u'Conflict Zones', u'Asia', u'Islamic Finance'])\n",
      "\n",
      "Loan: 1285938, similarity: 0.0\n",
      "set([u'Wholesale', u'Haiti', u'North_America'])\n",
      "\n",
      "Loan: 1285906, similarity: 0.0\n",
      "set([u'South_America', u'Transportation', u'Ecuador'])\n",
      "\n",
      "Loan: 1285698, similarity: 0.0\n",
      "set([u'Transportation', u'Cambodia', u'Asia', u'Underfunded Areas'])\n"
     ]
    }
   ],
   "source": [
    "print('***TOP FIVE SIMILAR LOANS for %s***' % user)\n",
    "for sim in sorted_similarity_scores[:5]:\n",
    "    loan_id, similarity_score = sim[0], sim[1]\n",
    "    print('\\nLoan: %s, similarity: %s' % (loan_id, similarity_score))\n",
    "    print(loan_elements[loan_id]['elements'])\n",
    "\n",
    "\n",
    "print('\\n\\n***TOP FIVE WORST LOANS for %s***' % user)\n",
    "sorted_similarity_scores.reverse()\n",
    "for sim in sorted_similarity_scores[:5]:\n",
    "    loan_id, similarity_score = sim[0], sim[1]\n",
    "    print('\\nLoan: %s, similarity: %s' % (loan_id, similarity_score))\n",
    "    print(loan_elements[loan_id]['elements'])"
   ]
  },
  {
   "cell_type": "markdown",
   "metadata": {},
   "source": [
    "All of top five \"similar\" loans are eco-friendly and/or women-owned businesses in Sub-Saharan Africa, nice!  And conversely, my five least good fits are in place where I've never given a loan."
   ]
  },
  {
   "cell_type": "code",
   "execution_count": 11,
   "metadata": {
    "collapsed": false
   },
   "outputs": [
    {
     "data": {
      "text/plain": [
       "{'user_continents': {'Asia': 20},\n",
       " 'user_countries': {'Philippines': 20},\n",
       " 'user_sectors': {'Agriculture': 10, 'Clothing': 1, 'Food': 7, 'Housing': 2},\n",
       " 'user_tags': {'Animals': 8,\n",
       "  'Elderly': 2,\n",
       "  'Job Creator': 1,\n",
       "  'Parent': 2,\n",
       "  'Repair Renew Replace': 1,\n",
       "  'Repeat Borrower': 1,\n",
       "  'Woman Owned Biz': 6,\n",
       "  'user_favorite': 1},\n",
       " 'user_themes': {}}"
      ]
     },
     "execution_count": 11,
     "metadata": {},
     "output_type": "execute_result"
    }
   ],
   "source": [
    "# Let's try someone with different preferences to see how it fits.\n",
    "user ='marylynn4377'\n",
    "user_loan_elements = get_user_loan_elements(user)\n",
    "user_loan_elements"
   ]
  },
  {
   "cell_type": "code",
   "execution_count": 12,
   "metadata": {
    "collapsed": false
   },
   "outputs": [
    {
     "name": "stdout",
     "output_type": "stream",
     "text": [
      "***TOP FIVE SIMILAR LOANS for marylynn4377***\n",
      "\n",
      "Loan: 1289619, similarity: 0.958333333333\n",
      "set([u'Animals', u'Parent', u'Philippines', u'Asia', u'Elderly', u'Woman Owned Biz', u'Repeat Borrower', u'Agriculture'])\n",
      "\n",
      "Loan: 1289748, similarity: 0.944444444444\n",
      "set([u'Animals', u'user_favorite', u'Philippines', u'Asia', u'Elderly', u'Woman Owned Biz', u'Repeat Borrower', u'Agriculture'])\n",
      "\n",
      "Loan: 1287152, similarity: 0.930555555556\n",
      "set([u'Animals', u'Parent', u'Philippines', u'Asia', u'Woman Owned Biz', u'Repeat Borrower', u'Agriculture'])\n",
      "\n",
      "Loan: 1285204, similarity: 0.930555555556\n",
      "set([u'Animals', u'Parent', u'Philippines', u'Asia', u'Woman Owned Biz', u'Repeat Borrower', u'Agriculture'])\n",
      "\n",
      "Loan: 1289604, similarity: 0.930555555556\n",
      "set([u'Animals', u'Parent', u'Philippines', u'Asia', u'Woman Owned Biz', u'Repeat Borrower', u'Agriculture'])\n",
      "\n",
      "\n",
      "***TOP FIVE WORST LOANS for marylynn4377***\n",
      "\n",
      "Loan: 1277897, similarity: 0.0\n",
      "set([u'El Salvador', u'Retail', u'North_America'])\n",
      "\n",
      "Loan: 1286050, similarity: 0.0\n",
      "set([u'Health', u'North_America', u'Health and Sanitation', u'Mexico'])\n",
      "\n",
      "Loan: 1286010, similarity: 0.0\n",
      "set([u'Health', u'North_America', u'Health and Sanitation', u'Mexico'])\n",
      "\n",
      "Loan: 1285987, similarity: 0.0\n",
      "set([u'Services', u'South_America', u'Bolivia', u'Fabrics', u'Biz Durable Asset'])\n",
      "\n",
      "Loan: 1285966, similarity: 0.0\n",
      "set([u'Retail', u'Nicaragua', u'North_America'])\n"
     ]
    }
   ],
   "source": [
    "# Find which of the currently active loans has the highest overlap with the user_loan_elements\n",
    "#similarity_scores = {k: jaccard_distance(v['elements'], user_loan_elements) for k, v in loan_elements.iteritems()}\n",
    "similarity_scores = {k: dp_similarity(v['elements'], user_loan_elements) for k, v in loan_elements.iteritems()}\n",
    "\n",
    "# Turn the dict into a list of tuples sorted by similarity score\n",
    "sorted_similarity_scores = sorted(similarity_scores.items(), key=lambda tup: tup[1], reverse=True)\n",
    "\n",
    "print('***TOP FIVE SIMILAR LOANS for %s***' % user)\n",
    "for sim in sorted_similarity_scores[:5]:\n",
    "    loan_id, similarity_score = sim[0], sim[1]\n",
    "    print('\\nLoan: %s, similarity: %s' % (loan_id, similarity_score))\n",
    "    print(loan_elements[loan_id]['elements'])\n",
    "\n",
    "\n",
    "print('\\n\\n***TOP FIVE WORST LOANS for %s***' % user)\n",
    "sorted_similarity_scores.reverse()\n",
    "for sim in sorted_similarity_scores[:5]:\n",
    "    loan_id, similarity_score = sim[0], sim[1]\n",
    "    print('\\nLoan: %s, similarity: %s' % (loan_id, similarity_score))\n",
    "    print(loan_elements[loan_id]['elements'])"
   ]
  },
  {
   "cell_type": "markdown",
   "metadata": {},
   "source": [
    "Nice, a lot of loans involving agriculture and animals in the Phillipines.  It would take A/B tests to validate whether these loans would actually be more persuasive to people and result in more loans given, but at face value it's definitely promising."
   ]
  },
  {
   "cell_type": "code",
   "execution_count": null,
   "metadata": {
    "collapsed": true
   },
   "outputs": [],
   "source": []
  }
 ],
 "metadata": {
  "kernelspec": {
   "display_name": "Python 2",
   "language": "python",
   "name": "python2"
  },
  "language_info": {
   "codemirror_mode": {
    "name": "ipython",
    "version": 2
   },
   "file_extension": ".py",
   "mimetype": "text/x-python",
   "name": "python",
   "nbconvert_exporter": "python",
   "pygments_lexer": "ipython2",
   "version": "2.7.13"
  }
 },
 "nbformat": 4,
 "nbformat_minor": 0
}
