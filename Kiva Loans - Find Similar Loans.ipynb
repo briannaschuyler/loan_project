{
 "cells": [
  {
   "cell_type": "markdown",
   "metadata": {},
   "source": [
    "# Calculate Similarity\n",
    "Given the diverse set of features here (about location, borrower, and the loan itself) let's just start with a really simple similarity metric.  We'll use Jaccard similarity, where each element of a user's set of loans will just get included in a set of loan elements.  Then we'll find a loan that's currently eligible with a large number of overlapping elements.\n",
    "\n",
    "We could eventually measure similarity across different metrics and weight more important ones more heavily, but to start let's just throw everything in the same set.\n",
    "\n",
    "The downside of this is that if someone consistently prefers the same country (for example) that's only indirectly accounted for in the small size of the set of elements (because that country would be counted only once, though it occurred many times.)  However, this will work as a proof of concept."
   ]
  },
  {
   "cell_type": "code",
   "execution_count": 1,
   "metadata": {
    "collapsed": false
   },
   "outputs": [],
   "source": [
    "import pandas as pd\n",
    "import pickle\n",
    "import pprint\n",
    "import requests\n",
    "\n",
    "from country import country_to_continent\n",
    "from utils import eval_string\n",
    "\n",
    "path = '/Users/brianna/Dropbox/data_project/loan_project/data/'\n"
   ]
  },
  {
   "cell_type": "markdown",
   "metadata": {},
   "source": [
    "## Get loan elements for each eligible loan\n",
    "Include the following features:\n",
    "- country\n",
    "- continent\n",
    "- sector\n",
    "- tags\n",
    "- themes"
   ]
  },
  {
   "cell_type": "code",
   "execution_count": 2,
   "metadata": {
    "collapsed": false
   },
   "outputs": [],
   "source": [
    "# Load the dictionary with loan ids and elements for each loan\n",
    "loan_elements = pickle.load( open( \"%sloan_elements.pickle\" % path, \"rb\" ) )"
   ]
  },
  {
   "cell_type": "markdown",
   "metadata": {},
   "source": [
    "## For a specific user, create a set of all of the elements of his/her previous loans.\n",
    "Let's look at my loan history for an example.  Because I lived in Uganda and I'm a big fan of woman-owned businesses, I tend to focus on East Africa and women."
   ]
  },
  {
   "cell_type": "code",
   "execution_count": 55,
   "metadata": {
    "collapsed": false
   },
   "outputs": [],
   "source": [
    "def add_element(category, element):\n",
    "    if element not in category:\n",
    "        category[element] = 1\n",
    "    else:\n",
    "        category[element] += 1\n",
    "    \n",
    "    return category\n",
    "        \n",
    "def get_user_loan_elements(user):                                                                              \n",
    "    url = 'http://api.kivaws.org/v1/lenders/{user}/loans.json'.format(user=user)                               \n",
    "    response = requests.get(url)                                                                               \n",
    "    lender = eval(response.content.replace('false', 'False').replace('true', 'True'))                          \n",
    "                                                                                                               \n",
    "    # To speed up computing time, if a user has a ton of loans only use the 10 most recent.                    \n",
    "    if len(lender['loans']) > 20:                                                                              \n",
    "        lender['loans'] = lender['loans'][-20:]                                                                \n",
    "                                                                                                               \n",
    "    # Make dictionaries of each of these important categories of the user's loans,\n",
    "    # where the key is the category (ex. \"Woman Owned Biz\") and the value is the number\n",
    "    # of times it's appeared in this user's loans\n",
    "    countries, continents, sectors, tags, themes = {}, {}, {}, {}, {}                       \n",
    "                                                                                                               \n",
    "    for loan in range(len(lender['loans'])):                                                                   \n",
    "        if 'country' in lender['loans'][loan]['location']:\n",
    "            country = lender['loans'][loan]['location']['country']\n",
    "            countries = add_element(countries, country)\n",
    "            continent = country_to_continent.get(country, 'Unknown')\n",
    "            continents = add_element(continents, continent)       \n",
    "                                                                                                               \n",
    "        if 'sector'in lender['loans'][loan]: \n",
    "            sector = lender['loans'][loan]['sector']\n",
    "            sectors = add_element(sectors, sector)                                                \n",
    "                                                                                                               \n",
    "        if 'tags' in lender['loans'][loan]:                                                                    \n",
    "            loan_tags = [k['name'].strip('#') for k in lender['loans'][loan]['tags']]  \n",
    "            for t in loan_tags:\n",
    "                tags = add_element(tags, t)                                                                             \n",
    "                                                                                                               \n",
    "        if 'themes' in lender['loans'][loan]:                                                                  \n",
    "            loan_themes = lender['loans'][loan]['themes'] \n",
    "            for th in loan_themes:\n",
    "                themes = add_element(themes, th)                                                                       \n",
    "                              \n",
    "        # Find the gender of the borrowers for each loan.  (For this we actually have to return\n",
    "        # to the loans API)\n",
    "#         url = 'http://api.kivaws.org/v1/loans/'\n",
    "#         for i in range(len(lender['loans'])):\n",
    "#             # API call an only include 50 loans at a time\n",
    "#             if i > 49:\n",
    "#                 break    \n",
    "#             url += '%s,' % lender['loans'][i]['id']\n",
    "\n",
    "#         url = '%s.json' % url[:-1]\n",
    "\n",
    "#         response = requests.get(url)                                                                     \n",
    "#         user_loans = eval(response.content.replace('false', 'False').replace('true', 'True'))['loans'] \n",
    "\n",
    "#         borrower_genders_all_loans = []\n",
    "#         for i in range(len(user_loans)):\n",
    "#             borrower_genders_this_loan = [k['gender'] for k in user_loans[i]['borrowers']]\n",
    "#             borrower_genders_all_loans = borrower_genders_all_loans + borrower_genders_this_loan\n",
    "\n",
    "#         user_borrowers = {'F': borrower_genders_all_loans.count('F'),\n",
    "#                           'M': borrower_genders_all_loans.count('M')}\n",
    "\n",
    "        user_loan_elements = {'user_countries': countries,                                                     \n",
    "                              'user_continents': continents,                                                   \n",
    "                              'user_sectors': sectors,                                                         \n",
    "                              'user_tags': tags,                                                               \n",
    "                              'user_themes': themes}                                                           \n",
    "                                                                                                               \n",
    "    return user_loan_elements   \n",
    "\n",
    "def get_user_loan_elements_and_counts(user_loan_elements):                                         \n",
    "    # Combine elements from each category into a single set to calculate similarity         \n",
    "    user_loan_elements_set = {}\n",
    "    for category in user_loan_elements: \n",
    "        for element in user_loan_elements[category]:\n",
    "            user_loan_elements_set.update(user_loan_elements[category])\n",
    "    return user_loan_elements_set\n",
    "\n",
    "def get_user_loan_elements_categories_only(user_loan_elements):                                         \n",
    "    # Combine elements from each category into a single set to calculate similarity         \n",
    "    user_loan_elements_set = set()                                                          \n",
    "    for category in user_loan_elements:                                                           \n",
    "        user_loan_elements_set.update(user_loan_elements[category])                               \n",
    "    return user_loan_elements_set                                                           "
   ]
  },
  {
   "cell_type": "code",
   "execution_count": 56,
   "metadata": {
    "collapsed": false
   },
   "outputs": [],
   "source": [
    "user = 'brianna9306'\n",
    "user = 'monica5588'\n",
    "user_loan_elements = get_user_loan_elements(user)"
   ]
  },
  {
   "cell_type": "code",
   "execution_count": 57,
   "metadata": {
    "collapsed": false
   },
   "outputs": [
    {
     "data": {
      "text/plain": [
       "{'user_continents': {'Africa': 1,\n",
       "  'Asia': 6,\n",
       "  'Europe': 10,\n",
       "  'North_America': 1,\n",
       "  'South_America': 2},\n",
       " 'user_countries': {'Armenia': 7,\n",
       "  'Ecuador': 1,\n",
       "  'El Salvador': 1,\n",
       "  'Georgia': 2,\n",
       "  'Kenya': 1,\n",
       "  'Kyrgyzstan': 2,\n",
       "  'Peru': 1,\n",
       "  'Philippines': 2,\n",
       "  'Tajikistan': 2,\n",
       "  'Ukraine': 1},\n",
       " 'user_sectors': {'Agriculture': 10,\n",
       "  'Food': 6,\n",
       "  'Housing': 1,\n",
       "  'Services': 2,\n",
       "  'Transportation': 1},\n",
       " 'user_tags': {'Animals': 1,\n",
       "  'Biz Durable Asset': 4,\n",
       "  'Elderly': 1,\n",
       "  'First Loan': 1,\n",
       "  'Parent': 3,\n",
       "  'Repeat Borrower': 1,\n",
       "  'Schooling': 1,\n",
       "  'Single Parent': 1,\n",
       "  'Supporting Family': 2,\n",
       "  'Sustainable Ag': 1,\n",
       "  'Technology': 1,\n",
       "  'Vegan': 1,\n",
       "  'Widowed': 1,\n",
       "  'Woman Owned Biz': 2,\n",
       "  'user_favorite': 4},\n",
       " 'user_themes': {'Rural Exclusion': 1, 'Start-Up': 1, 'Youth': 1}}"
      ]
     },
     "execution_count": 57,
     "metadata": {},
     "output_type": "execute_result"
    }
   ],
   "source": [
    "user_loan_elements"
   ]
  },
  {
   "cell_type": "code",
   "execution_count": 179,
   "metadata": {
    "collapsed": false
   },
   "outputs": [
    {
     "data": {
      "image/png": "[encoded data removed]",
      "text/plain": [
       "<matplotlib.figure.Figure at 0x119b47e50>"
      ]
     },
     "metadata": {},
     "output_type": "display_data"
    }
   ],
   "source": [
    "plt.figure(figsize=(12, 8))\n",
    "plt.subplot(1, 5, 1)\n",
    "p = 1\n",
    "for category in ['user_themes', 'user_tags', 'user_sectors', 'user_countries', 'user_continents']:\n",
    "    plt.subplot(5, 1, p)\n",
    "\n",
    "    elements = user_loan_elements[category].items()\n",
    "    elements.sort(key=lambda x: x[1], reverse=True) \n",
    "    if len(elements) > 10:\n",
    "        elements = elements[:10]\n",
    "\n",
    "    n = len(elements)\n",
    "    x = range(n)\n",
    "    y = [(n - i) * .1 for i in x]\n",
    "    area = []\n",
    "    for i in x:\n",
    "        text(x[i], y[i], '%s \\n(%s)' % (elements[i]), size=11, horizontalalignment='center')\n",
    "        area.append(elements[i][1] * 1000)\n",
    "#     text(x[-1], y[0], category, size=13, horizontalalignment='center')\n",
    "    sct = scatter(x, y, c=np.random.rand(3, 1), s=area, linewidths=2, edgecolor='w')\n",
    "    sct.set_alpha(0.75)\n",
    "    p += 1\n",
    "\n",
    "    plt.tick_params(axis='x', which='both', bottom='off', top='off', labelbottom='off')\n",
    "    plt.tick_params(axis='y', which='both', right='off', left='off', labelleft='off')\n",
    "# plt.get_xaxis().set_visible(False)\n",
    "\n",
    "# axis([0,11,200,1280])\n",
    "#xlabel('Category')\n",
    "#ylabel('Number of Instances')\n",
    "plt.show()\n"
   ]
  },
  {
   "cell_type": "code",
   "execution_count": 181,
   "metadata": {
    "collapsed": true
   },
   "outputs": [],
   "source": [
    "from bokeh.charts import Bar, output_file, show\n",
    "from bokeh.sampledata.autompg import autompg as df\n",
    "\n",
    "p = Bar(df, label='origin', values='mpg', agg='mean', stack='cyl',\n",
    "        title=\"Avg MPG by ORIGIN, stacked by CYL\", legend='top_right')\n",
    "\n",
    "# output_file(\"bar.html\")\n",
    "\n",
    "show(p)"
   ]
  },
  {
   "cell_type": "code",
   "execution_count": 182,
   "metadata": {
    "collapsed": true
   },
   "outputs": [],
   "source": [
    "from bokeh.charts import Donut, show, output_file\n",
    "from bokeh.charts.utils import df_from_json\n",
    "from bokeh.sampledata.olympics2014 import data\n",
    "\n",
    "import pandas as pd\n",
    "\n",
    "# utilize utility to make it easy to get json/dict data converted to a dataframe\n",
    "df = df_from_json(data)\n",
    "\n",
    "# filter by countries with at least one medal and sort by total medals\n",
    "df = df[df['total'] > 8]\n",
    "df = df.sort_values(by=\"total\", ascending=False)\n",
    "df = pd.melt(df, id_vars=['abbr'],\n",
    "             value_vars=['bronze', 'silver', 'gold'],\n",
    "             value_name='medal_count', var_name='medal')\n",
    "\n",
    "# original example\n",
    "d = Donut(df, label=['abbr', 'medal'], values='medal_count',\n",
    "          text_font_size='8pt', hover_text='medal_count')\n",
    "\n",
    "output_file(\"donut.html\")\n",
    "\n",
    "show(d)\n"
   ]
  },
  {
   "cell_type": "code",
   "execution_count": 211,
   "metadata": {
    "collapsed": false
   },
   "outputs": [
    {
     "data": {
      "text/plain": [
       "'#058DC7'"
      ]
     },
     "execution_count": 211,
     "metadata": {},
     "output_type": "execute_result"
    }
   ],
   "source": [
    "# from highcharts import Highchart\n",
    "# base = Highchart.getOptions().colors[0]\n",
    "import random\n",
    "\n",
    "random.choice(colors)\n",
    "\n"
   ]
  },
  {
   "cell_type": "code",
   "execution_count": 220,
   "metadata": {
    "collapsed": false
   },
   "outputs": [
    {
     "data": {
      "text/html": [
       "<iframe style=\"border:0;outline:none;overflow:hidden\" srcdoc=\"&lt;!DOCTYPE html&gt; &lt;html lang=&quot;en&quot;&gt; &lt;head&gt; &lt;meta charset=&quot;utf-8&quot; /&gt; &lt;link href=&quot;https://www.highcharts.com/highslide/highslide.css&quot; rel=&quot;stylesheet&quot; /&gt; &lt;script type=&quot;text/javascript&quot; src=&quot;https://ajax.googleapis.com/ajax/libs/jquery/1.9.1/jquery.min.js&quot;&gt;&lt;/script&gt; &lt;script type=&quot;text/javascript&quot; src=&quot;https://code.highcharts.com/highcharts.js&quot;&gt;&lt;/script&gt; &lt;script type=&quot;text/javascript&quot; src=&quot;https://code.highcharts.com/highcharts-more.js&quot;&gt;&lt;/script&gt; &lt;script type=&quot;text/javascript&quot; src=&quot;https://code.highcharts.com/modules/heatmap.js&quot;&gt;&lt;/script&gt; &lt;script type=&quot;text/javascript&quot; src=&quot;https://code.highcharts.com/modules/exporting.js&quot;&gt;&lt;/script&gt; &lt;/head&gt; &lt;body style=&quot;margin:0;padding:0&quot;&gt; &lt;div id=&quot;container&quot; style=&quot;width:650px;height:500px;&quot;&gt;Loading....&lt;/div&gt; &lt;script&gt; $(function(){ Highcharts.setOptions({&quot;lang&quot;: {}, &quot;global&quot;: {}}); var option = {&quot;loading&quot;: {}, &quot;subtitle&quot;: {}, &quot;xAxis&quot;: {}, &quot;title&quot;: {&quot;text&quot;: &quot;Countries&quot;}, &quot;series&quot;: {}, &quot;labels&quot;: {}, &quot;yAxis&quot;: {}, &quot;chart&quot;: {&quot;width&quot;: 650, &quot;zoomType&quot;: &quot;xy&quot;, &quot;renderTo&quot;: &quot;container&quot;, &quot;height&quot;: 500}, &quot;tooltip&quot;: {&quot;followPointer&quot;: true, &quot;pointFormat&quot;: &quot;{point.y} loans ({point.percentage:.1f} %)&quot;, &quot;useHTML&quot;: true}, &quot;plotOptions&quot;: {}, &quot;credits&quot;: {&quot;enabled&quot;: false}, &quot;colors&quot;: {}, &quot;pane&quot;: {}, &quot;exporting&quot;: {}, &quot;drilldown&quot;: {}, &quot;navigation&quot;: {}, &quot;legend&quot;: {}}; var data = [{&quot;name&quot;: &quot; &quot;, &quot;type&quot;: &quot;pie&quot;, &quot;data&quot;: [{&quot;y&quot;: 2, &quot;color&quot;: &quot;#fff9c4&quot;, &quot;name&quot;: &quot;Services&quot;}, {&quot;y&quot;: 6, &quot;color&quot;: &quot;#fdd835&quot;, &quot;name&quot;: &quot;Food&quot;}, {&quot;y&quot;: 1, &quot;color&quot;: &quot;#fbc02d&quot;, &quot;name&quot;: &quot;Housing&quot;}, {&quot;y&quot;: 10, &quot;color&quot;: &quot;#fdd835&quot;, &quot;name&quot;: &quot;Agriculture&quot;}, {&quot;y&quot;: 1, &quot;color&quot;: &quot;#f9a825&quot;, &quot;name&quot;: &quot;Transportation&quot;}], &quot;dataLabels&quot;: {&quot;enabled&quot;: true, &quot;format&quot;: &quot;{point.name}&quot;}}]; option.series = data; var chart = new Highcharts.Chart(option); }); &lt;/script&gt; &lt;/body&gt; &lt;/html&gt;\" height=500 width=650></iframe>"
      ],
      "text/plain": [
       "<highcharts.highcharts.highcharts.Highchart at 0x1168f6d50>"
      ]
     },
     "execution_count": 220,
     "metadata": {},
     "output_type": "execute_result"
    }
   ],
   "source": [
    "from highcharts import Highchart\n",
    "from colors import reds, blues, greens, oranges\n",
    "\n",
    "category = 'user_sectors'\n",
    "data = []\n",
    "for el in user_loan_elements[category]:\n",
    "    data.append({'name': el, \n",
    "                 'y': user_loan_elements[category][el],\n",
    "                 'color': random.choice(oranges)})\n",
    "\n",
    "# Define the options of the chart\n",
    "options = { # construct option dict\n",
    "  'chart' :{ 'renderTo' : 'container', 'zoomType': 'xy'},\n",
    "  'title' : {'text' : 'Countries'},\n",
    "  'tooltip': {\n",
    "            'useHTML': True,\n",
    "            'pointFormat': '{point.y} loans ({point.percentage:.1f} %)',\n",
    "            'followPointer': True\n",
    "        },\n",
    "    \n",
    "} \n",
    "\n",
    "\n",
    "# Plot the chart\n",
    "H = Highchart(width = 650, height = 500)\n",
    "\n",
    "H.set_dict_options(options) # set options\n",
    "H.add_data_set(data, 'pie', ' ',\n",
    "                dataLabels={\n",
    "                    'enabled': True,\n",
    "                    'format': '{point.name}',\n",
    "                },\n",
    "              )\n",
    "# H.save_file('electoral_college_race_age')\n",
    "H"
   ]
  },
  {
   "cell_type": "code",
   "execution_count": null,
   "metadata": {
    "collapsed": false
   },
   "outputs": [],
   "source": [
    "print(get_user_loan_elements_only(user_loan_elements))\n",
    "print('\\n')\n",
    "print(get_user_loan_elements_and_counts(user_loan_elements))"
   ]
  },
  {
   "cell_type": "markdown",
   "metadata": {},
   "source": [
    "# Similarity Measures"
   ]
  },
  {
   "cell_type": "markdown",
   "metadata": {},
   "source": [
    "### Jaccard Distance\n",
    "The simplest way to compute similarity, the number of shared elements divided by the total number of elements.\n",
    "   - <b>Strengths</b>: Simple to understand, the fit is imperfect but it injects an element of randomness that might be beneficial\n",
    "   - <b>Weaknesses</b>: Doesn't take into account the nature of the category (ex. treats country the same as sector) or the number of times each category is is associated with the loans (ex. If I take loans 30 loans from Senegal and one from Cambodia, it counts Senegal and Cambodia equally)"
   ]
  },
  {
   "cell_type": "code",
   "execution_count": null,
   "metadata": {
    "collapsed": true
   },
   "outputs": [],
   "source": [
    "def jaccard_distance(x, user_loan_elements):                                          \n",
    "    user_loan_elements_set = get_user_loan_elements_categories_only(user_loan_elements)           \n",
    "    intersection = len(set.intersection(x, user_loan_elements_set))                   \n",
    "    union = len(set.union(x, user_loan_elements_set))                                 \n",
    "    if union > 0:                                                                     \n",
    "        return intersection/float(union)                                              \n",
    "    else:                                                                             \n",
    "        return 0      "
   ]
  },
  {
   "cell_type": "markdown",
   "metadata": {},
   "source": [
    "### Dot Product Similarity\n",
    "Compute similarity taking into account the number of instances of each element (ie. if someone gives 10 \"Agriculture\" sector loans and 2 \"Clothing\" sector loans, their similarity scores will be more heavily weighted toward \"Agriculture\".)\n",
    "\n",
    "   - <b>Strengths</b>: If a user has a strong preference in one category, that category will carry more weight, resulting in more loans that are similar in that category\n",
    "   - <b>Weaknesses</b>: Less intuitive measure, tailored specifically to the eccentricities of the Kiva loan dataset"
   ]
  },
  {
   "cell_type": "code",
   "execution_count": null,
   "metadata": {
    "collapsed": false
   },
   "outputs": [],
   "source": [
    "def get_max_instance(user_loan_elements, category):\n",
    "    # Get the maximm number of instances of a particular category (country, continent, sector)\n",
    "    instances = {v: k for k,v in user_loan_elements[category].iteritems()}\n",
    "    return max(instances)\n",
    "\n",
    "def get_sum_of_instances(user_loan_elements, category):\n",
    "    # Get the maximm number of instances of a particular category (country, continent, sector)\n",
    "    total_instances = 0\n",
    "    for k in user_loan_elements[category]:\n",
    "        total_instances += user_loan_elements[category][k]\n",
    "    return total_instances\n",
    "\n",
    "def max_dp_similarity(user_loan_elements):\n",
    "    # The maximum \"similarity score\" would be:\n",
    "    #    - a match with the most common country, continent, and sector\n",
    "    #    - all tags and themes shared\n",
    "    dp_max = 0\n",
    "    for category in ['user_countries', 'user_continents', 'user_sectors']:\n",
    "        dp_max += get_max_instance(user_loan_elements, category)\n",
    "    for category in ['user_tags', 'user_themes']:\n",
    "        dp_max += get_sum_of_instances(user_loan_elements, category)\n",
    "    return dp_max\n",
    "    \n",
    "def dp_similarity(candidate_loan_elements, user_loan_elements):\n",
    "    user_loan_elements_set = get_user_loan_elements_and_counts(user_loan_elements)\n",
    "    candidate_loan_elements = list(candidate_loan_elements)\n",
    "    \n",
    "    dot_product = sum([user_loan_elements_set.get(k, 0) for k in candidate_loan_elements])\n",
    "    \n",
    "    # Normalize by the maximum dot product of the most ideal loan (which is not the same as sharing\n",
    "    # every element since a loan can in theory share all tags and themes but can only have one \n",
    "    # country, continent, and sector\n",
    "    return dot_product * 1.0 / max_dp_similarity(user_loan_elements)"
   ]
  },
  {
   "cell_type": "markdown",
   "metadata": {},
   "source": [
    "# Find most similar loans"
   ]
  },
  {
   "cell_type": "code",
   "execution_count": null,
   "metadata": {
    "collapsed": false
   },
   "outputs": [],
   "source": [
    "# Find which of the currently active loans has the highest overlap with the user_loan_elements\n",
    "#similarity_scores = {k: jaccard_distance(v['elements'], user_loan_elements) for k, v in loan_elements.iteritems()}\n",
    "similarity_scores = {k: dp_similarity(v['elements'], user_loan_elements) for k, v in loan_elements.iteritems()}\n",
    "\n",
    "# Turn the dict into a list of tuples sorted by similarity score\n",
    "sorted_similarity_scores = sorted(similarity_scores.items(), key=lambda tup: tup[1], reverse=True)"
   ]
  },
  {
   "cell_type": "code",
   "execution_count": null,
   "metadata": {
    "collapsed": false
   },
   "outputs": [],
   "source": [
    "print('***TOP FIVE SIMILAR LOANS for %s***' % user)\n",
    "for sim in sorted_similarity_scores[:5]:\n",
    "    loan_id, similarity_score = sim[0], sim[1]\n",
    "    print('\\nLoan: %s, similarity: %s' % (loan_id, similarity_score))\n",
    "    print(loan_elements[loan_id]['elements'])\n",
    "\n",
    "\n",
    "print('\\n\\n***TOP FIVE WORST LOANS for %s***' % user)\n",
    "sorted_similarity_scores.reverse()\n",
    "for sim in sorted_similarity_scores[:5]:\n",
    "    loan_id, similarity_score = sim[0], sim[1]\n",
    "    print('\\nLoan: %s, similarity: %s' % (loan_id, similarity_score))\n",
    "    print(loan_elements[loan_id]['elements'])"
   ]
  },
  {
   "cell_type": "markdown",
   "metadata": {},
   "source": [
    "All of top five \"similar\" loans are eco-friendly and/or women-owned businesses in Uganda, nice!  And conversely, my five least good fits are in place where I've never given a loan."
   ]
  },
  {
   "cell_type": "code",
   "execution_count": null,
   "metadata": {
    "collapsed": false
   },
   "outputs": [],
   "source": [
    "# Let's try someone with different preferences to see how it fits.\n",
    "user = 'rafael7312'\n",
    "user_loan_elements = get_user_loan_elements(user)\n",
    "user_loan_elements"
   ]
  },
  {
   "cell_type": "code",
   "execution_count": null,
   "metadata": {
    "collapsed": false
   },
   "outputs": [],
   "source": [
    "# Find which of the currently active loans has the highest overlap with the user_loan_elements\n",
    "#similarity_scores = {k: jaccard_distance(v['elements'], user_loan_elements) for k, v in loan_elements.iteritems()}\n",
    "similarity_scores = {k: dp_similarity(v['elements'], user_loan_elements) for k, v in loan_elements.iteritems()}\n",
    "\n",
    "# Turn the dict into a list of tuples sorted by similarity score\n",
    "sorted_similarity_scores = sorted(similarity_scores.items(), key=lambda tup: tup[1], reverse=True)\n",
    "\n",
    "print('***TOP FIVE SIMILAR LOANS for %s***' % user)\n",
    "for sim in sorted_similarity_scores[:5]:\n",
    "    loan_id, similarity_score = sim[0], sim[1]\n",
    "    print('\\nLoan: %s, similarity: %s' % (loan_id, similarity_score))\n",
    "    print(loan_elements[loan_id]['elements'])\n",
    "\n",
    "\n",
    "print('\\n\\n***TOP FIVE WORST LOANS for %s***' % user)\n",
    "sorted_similarity_scores.reverse()\n",
    "for sim in sorted_similarity_scores[:5]:\n",
    "    loan_id, similarity_score = sim[0], sim[1]\n",
    "    print('\\nLoan: %s, similarity: %s' % (loan_id, similarity_score))\n",
    "    print(loan_elements[loan_id]['elements'])"
   ]
  },
  {
   "cell_type": "markdown",
   "metadata": {},
   "source": [
    "Nice, a lot of \"Innovative Loans\" and \"Woman Owned Businesses\" in South America.  It would take A/B tests to validate whether these loans would actually be more persuasive to people and result in more loans given, but at face value it's definitely promising."
   ]
  },
  {
   "cell_type": "markdown",
   "metadata": {
    "collapsed": true
   },
   "source": [
    "# Plot Distribution of loan elements for a user"
   ]
  },
  {
   "cell_type": "code",
   "execution_count": 8,
   "metadata": {
    "collapsed": true
   },
   "outputs": [],
   "source": [
    "url = 'http://api.kivaws.org/v1/lenders/{user}/loans.json'.format(user=user)\n",
    "response = requests.get(url)                                                                               \n",
    "lender = eval(response.content.replace('false', 'False').replace('true', 'True'))                          "
   ]
  },
  {
   "cell_type": "code",
   "execution_count": 22,
   "metadata": {
    "collapsed": false
   },
   "outputs": [],
   "source": []
  },
  {
   "cell_type": "code",
   "execution_count": 25,
   "metadata": {
    "collapsed": true
   },
   "outputs": [],
   "source": [
    "                                                                                                 "
   ]
  },
  {
   "cell_type": "code",
   "execution_count": 35,
   "metadata": {
    "collapsed": false
   },
   "outputs": [],
   "source": []
  },
  {
   "cell_type": "code",
   "execution_count": 41,
   "metadata": {
    "collapsed": false
   },
   "outputs": [],
   "source": [
    "\n"
   ]
  },
  {
   "cell_type": "code",
   "execution_count": 42,
   "metadata": {
    "collapsed": false
   },
   "outputs": [
    {
     "data": {
      "text/plain": [
       "{'F': 62, 'M': 24}"
      ]
     },
     "execution_count": 42,
     "metadata": {},
     "output_type": "execute_result"
    }
   ],
   "source": [
    "user_borrowers"
   ]
  },
  {
   "cell_type": "code",
   "execution_count": null,
   "metadata": {
    "collapsed": true
   },
   "outputs": [],
   "source": []
  }
 ],
 "metadata": {
  "kernelspec": {
   "display_name": "Python 2",
   "language": "python",
   "name": "python2"
  },
  "language_info": {
   "codemirror_mode": {
    "name": "ipython",
    "version": 2
   },
   "file_extension": ".py",
   "mimetype": "text/x-python",
   "name": "python",
   "nbconvert_exporter": "python",
   "pygments_lexer": "ipython2",
   "version": "2.7.13"
  }
 },
 "nbformat": 4,
 "nbformat_minor": 0
}
