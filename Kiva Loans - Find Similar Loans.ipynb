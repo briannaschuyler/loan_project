{
 "cells": [
  {
   "cell_type": "markdown",
   "metadata": {},
   "source": [
    "# Calculate Similarity\n",
    "Given the diverse set of features here (about location, borrower, and the loan itself) let's just start with a really simple similarity metric.  We'll use Jaccard similarity, where each element of a user's set of loans will just get included in a set of loan elements.  Then we'll find a loan that's currently eligible with a large number of overlapping elements.\n",
    "\n",
    "We could eventually measure similarity across different metrics and weight more important ones more heavily, but to start let's just throw everything in the same set.\n",
    "\n",
    "The downside of this is that if someone consistently prefers the same country (for example) that's only indirectly accounted for in the small size of the set of elements (because that country would be counted only once, though it occurred many times.)  However, this will work as a proof of concept."
   ]
  },
  {
   "cell_type": "code",
   "execution_count": 1,
   "metadata": {
    "collapsed": true
   },
   "outputs": [],
   "source": [
    "import pandas as pd\n",
    "import pickle\n",
    "import requests\n",
    "\n",
    "from country import country_to_continent\n",
    "from utils import eval_string\n",
    "\n",
    "path = '/Users/brianna/Dropbox/data_project/loan_project/data/'\n"
   ]
  },
  {
   "cell_type": "markdown",
   "metadata": {},
   "source": [
    "## Get loan elements for each eligible loan\n",
    "Include the following features:\n",
    "- country\n",
    "- continent\n",
    "- sector\n",
    "- tags\n",
    "- themes"
   ]
  },
  {
   "cell_type": "code",
   "execution_count": 2,
   "metadata": {
    "collapsed": false
   },
   "outputs": [],
   "source": [
    "# Load the dictionary with loan ids and elements for each loan\n",
    "loan_elements = pickle.load( open( \"%sloan_elements.pickle\" % path, \"rb\" ) )"
   ]
  },
  {
   "cell_type": "markdown",
   "metadata": {},
   "source": [
    "## For a specific user, create a set of all of the elements of his/her previous loans.\n",
    "Let's look at my loan history for an example.  Because I lived in Uganda and I'm a big fan of woman-owned businesses, I tend to focus on East Africa and women."
   ]
  },
  {
   "cell_type": "code",
   "execution_count": 3,
   "metadata": {
    "collapsed": false
   },
   "outputs": [],
   "source": [
    "def get_user_loan_elements(user):\n",
    "    url = 'http://api.kivaws.org/v1/lenders/{user}/loans.json'.format(user=user)\n",
    "    response = requests.get(url)\n",
    "    lender = eval(response.content.replace('false', 'False').replace('true', 'True'))\n",
    "\n",
    "    user_loan_elements = set()\n",
    "\n",
    "    for loan in range(len(lender['loans'])):\n",
    "        if 'country' in lender['loans'][loan]['location']:\n",
    "            user_loan_elements.update([lender['loans'][loan]['location']['country']])\n",
    "            user_loan_elements.update([country_to_continent.get(lender['loans'][loan]['location']['country'])])\n",
    "\n",
    "        if 'sector'in lender['loans'][loan]:\n",
    "            user_loan_elements.update([lender['loans'][loan]['sector']])\n",
    "\n",
    "        if 'tags' in lender['loans'][loan]:\n",
    "            tags = [k['name'].strip('#') for k in lender['loans'][loan]['tags']]\n",
    "            user_loan_elements.update(tags)\n",
    "\n",
    "        if 'themes' in lender['loans'][loan]:\n",
    "            themes = lender['loans'][loan]['themes']\n",
    "            user_loan_elements.update(themes)\n",
    "        \n",
    "    return user_loan_elements"
   ]
  },
  {
   "cell_type": "code",
   "execution_count": 4,
   "metadata": {
    "collapsed": true
   },
   "outputs": [],
   "source": [
    "user = 'brianna9306'\n",
    "user_loan_elements = get_user_loan_elements(user)"
   ]
  },
  {
   "cell_type": "code",
   "execution_count": 5,
   "metadata": {
    "collapsed": false
   },
   "outputs": [
    {
     "data": {
      "text/plain": [
       "{'Africa',\n",
       " 'Agriculture',\n",
       " 'Animals',\n",
       " 'Clothing',\n",
       " 'Eco-friendly',\n",
       " 'Fabrics',\n",
       " 'Food',\n",
       " 'Green',\n",
       " 'Growing Businesses',\n",
       " 'Health and Sanitation',\n",
       " 'Housing',\n",
       " 'Interesting Photo',\n",
       " 'Job Creation',\n",
       " 'Job Creator',\n",
       " 'Kenya',\n",
       " 'Parent',\n",
       " 'Repeat Borrower',\n",
       " 'Retail',\n",
       " 'Rural Exclusion',\n",
       " 'Schooling',\n",
       " 'Single Parent',\n",
       " 'Social Enterprise',\n",
       " 'Technology',\n",
       " 'Uganda',\n",
       " 'Unique',\n",
       " 'Vegan',\n",
       " 'Vulnerable Groups',\n",
       " 'Woman Owned Biz',\n",
       " 'Youth',\n",
       " 'user_favorite'}"
      ]
     },
     "execution_count": 5,
     "metadata": {},
     "output_type": "execute_result"
    }
   ],
   "source": [
    "user_loan_elements"
   ]
  },
  {
   "cell_type": "markdown",
   "metadata": {},
   "source": [
    "## Find which loans have the highest overlap with the user's loans"
   ]
  },
  {
   "cell_type": "code",
   "execution_count": 6,
   "metadata": {
    "collapsed": false
   },
   "outputs": [
    {
     "name": "stdout",
     "output_type": "stream",
     "text": [
      "***TOP FIVE SIMILAR LOANS for brianna9306***\n",
      "\n",
      "Loan: 1220456, similarity: 0.166666666667\n",
      "set(['Kenya', 'Africa', 'Eco-friendly', 'Agriculture', 'Rural Exclusion'])\n",
      "\n",
      "Loan: 1220102, similarity: 0.133333333333\n",
      "set(['Food', 'Africa', 'Eco-friendly', 'Uganda'])\n",
      "\n",
      "Loan: 1209855, similarity: 0.129032258065\n",
      "set(['Food', 'Cameroon', 'Africa', 'Eco-friendly', 'Vulnerable Groups'])\n",
      "\n",
      "Loan: 1220317, similarity: 0.125\n",
      "set(['Mexico', 'Green', 'Eco-friendly', 'Agriculture', 'North_America', 'Rural Exclusion'])\n",
      "\n",
      "Loan: 1220020, similarity: 0.1\n",
      "set(['Kenya', 'Retail', 'Africa'])\n",
      "\n",
      "\n",
      "***TOP FIVE WORST LOANS for brianna9306***\n",
      "\n",
      "Loan: 1219913, similarity: 0.0\n",
      "set(['Philippines', 'Manufacturing', 'Asia'])\n",
      "\n",
      "Loan: 1220302, similarity: 0.0277777777778\n",
      "set(['IPA Study', 'Innovative Loans', 'Flexible Credit Study', 'South_America', 'Colombia', 'Services', 'Repeat Borrower'])\n",
      "\n",
      "Loan: 1219558, similarity: 0.0285714285714\n",
      "set(['IPA Study', 'Food', 'Flexible Credit Study', 'South_America', 'Innovative Loans', 'Colombia'])\n",
      "\n",
      "Loan: 1206122, similarity: 0.0294117647059\n",
      "set(['Repeat Borrower', 'Education', 'Lebanon', 'Higher Education', 'Asia'])\n",
      "\n",
      "Loan: 1220471, similarity: 0.030303030303\n",
      "set(['Mexico', 'Health', 'North_America', 'Eco-friendly'])\n"
     ]
    }
   ],
   "source": [
    "def jaccard_distance(x, user_loan_elements):\n",
    "    intersection = len(set.intersection(x, user_loan_elements))\n",
    "    union = len(set.union(x, user_loan_elements))\n",
    "    if union > 0:\n",
    "        return intersection/float(union)\n",
    "    else:\n",
    "        return 0\n",
    "\n",
    "# Find which of the currently active loans has the highest overlap with the user_loan_elements\n",
    "loan_similarity = {jaccard_distance(v['elements'], user_loan_elements): k for k, v in loan_elements.iteritems()}\n",
    "\n",
    "print('***TOP FIVE SIMILAR LOANS for %s***' % user)\n",
    "for best_similarity in sorted(loan_similarity, reverse=True)[:5]:\n",
    "    loan_id = loan_similarity[best_similarity]\n",
    "    print('\\nLoan: %s, similarity: %s' % (loan_id, best_similarity))\n",
    "    print(loan_elements[loan_id]['elements'])\n",
    "    \n",
    "print('\\n\\n***TOP FIVE WORST LOANS for %s***' % user)\n",
    "for worst_similarity in sorted(loan_similarity)[:5]:\n",
    "    loan_id = loan_similarity[worst_similarity]\n",
    "    print('\\nLoan: %s, similarity: %s' % (loan_id, worst_similarity))\n",
    "    print(loan_elements[loan_id]['elements'])"
   ]
  },
  {
   "cell_type": "markdown",
   "metadata": {},
   "source": [
    "Four of my top five \"similar\" loans are women-owned businesses in East Africa, nice!  And conversely, my five least good fits are South America, where I've never given a loan.\n",
    "\n",
    "NOTE: This isn't matching quite as well now that I only have 500 active loans (as opposed to the historical loans that I first tested on), but it will get better when I get the cron job up and running and accumulate more active loans to choose from."
   ]
  },
  {
   "cell_type": "code",
   "execution_count": null,
   "metadata": {
    "collapsed": false
   },
   "outputs": [],
   "source": [
    "# Let's try someone with different preferences to see how it fits.\n",
    "user = 'rafael7312'\n",
    "user_loan_elements = get_user_loan_elements(user)\n",
    "user_loan_elements"
   ]
  },
  {
   "cell_type": "code",
   "execution_count": null,
   "metadata": {
    "collapsed": false
   },
   "outputs": [],
   "source": [
    "# Use dict comprehension to find which of those loans has the highest overlap with the user_loan_elements\n",
    "loan_similarity = {jaccard_distance(v['elements'], user_loan_elements): k for k, v in loan_elements.iteritems()}\n",
    "\n",
    "print('***TOP FIVE SIMILAR LOANS for %s***' % user)\n",
    "for best_similarity in sorted(loan_similarity, reverse=True)[:5]:\n",
    "    loan_id = loan_similarity[best_similarity]\n",
    "    print('\\nLoan: %s, similarity: %s' % (loan_id, best_similarity))\n",
    "    print(loan_elements[loan_id])\n",
    "    \n",
    "print('\\n\\n***TOP FIVE WORST LOANS for %s***' % user)\n",
    "for worst_similarity in sorted(loan_similarity)[:5]:\n",
    "    loan_id = loan_similarity[worst_similarity]\n",
    "    print('\\nLoan: %s, similarity: %s' % (loan_id, worst_similarity))\n",
    "    print(loan_elements[loan_id])"
   ]
  },
  {
   "cell_type": "markdown",
   "metadata": {},
   "source": [
    "Nice, a lot of \"Innovative Loans\" in South America.  It would take A/B tests to validate whether these loans would actually be more persuasive to people and result in more loans given, but at face value it's definitely promising."
   ]
  },
  {
   "cell_type": "code",
   "execution_count": null,
   "metadata": {
    "collapsed": true
   },
   "outputs": [],
   "source": []
  }
 ],
 "metadata": {
  "kernelspec": {
   "display_name": "Python 2",
   "language": "python",
   "name": "python2"
  },
  "language_info": {
   "codemirror_mode": {
    "name": "ipython",
    "version": 2
   },
   "file_extension": ".py",
   "mimetype": "text/x-python",
   "name": "python",
   "nbconvert_exporter": "python",
   "pygments_lexer": "ipython2",
   "version": "2.7.13"
  }
 },
 "nbformat": 4,
 "nbformat_minor": 0
}
